{
 "cells": [
  {
   "cell_type": "code",
   "execution_count": 57,
   "metadata": {},
   "outputs": [
    {
     "name": "stdout",
     "output_type": "stream",
     "text": [
      "4\n",
      "4.0\n",
      "4\n",
      "4.0 4 4\n",
      "4.0\n",
      "4\n",
      "4\n"
     ]
    }
   ],
   "source": [
    "print(20//5)\n",
    "print(20/5)     #real number division\n",
    "print(int(20/5))\n",
    "print((20/5), (20//5), (int(20/5)))\n",
    "print(20/5) \n",
    "print(20//5)    #integer division\n",
    "print(int(20/5))\n",
    "\n",
    "\n",
    "\n",
    "\n",
    "\n",
    "\n"
   ]
  },
  {
   "cell_type": "code",
   "execution_count": 58,
   "metadata": {},
   "outputs": [
    {
     "name": "stdout",
     "output_type": "stream",
     "text": [
      "10\n",
      "0.8333333333333334\n",
      "0\n",
      "True\n",
      "False\n"
     ]
    }
   ],
   "source": [
    "x = 3 + 3 + 4   #set value of x\n",
    "print(x)\n",
    "y = x/12\n",
    "x = y           #set new value of x\n",
    "print((x))      \n",
    "print(int(x))\n",
    "print(bool(x))  #print bool value of x = y\n",
    "x = int(x)      #change x to integer value\n",
    "print(bool(x))  #show the boolean type"
   ]
  },
  {
   "cell_type": "code",
   "execution_count": 59,
   "metadata": {},
   "outputs": [
    {
     "name": "stdout",
     "output_type": "stream",
     "text": [
      "3.10.7 (v3.10.7:6cc6b13308, Sep  5 2022, 14:02:52) [Clang 13.0.0 (clang-1300.0.29.30)]\n"
     ]
    }
   ],
   "source": [
    "#Check the python version\n",
    "#[Tip:] sys is a built-in module that contains many system-specific parameters and functions, including the Python version in use. Before using it, we must explictly import it.\n",
    "import sys\n",
    "print(sys.version)"
   ]
  },
  {
   "cell_type": "code",
   "execution_count": 60,
   "metadata": {},
   "outputs": [
    {
     "ename": "NameError",
     "evalue": "name 'frint' is not defined",
     "output_type": "error",
     "traceback": [
      "\u001b[0;31m---------------------------------------------------------------------------\u001b[0m",
      "\u001b[0;31mNameError\u001b[0m                                 Traceback (most recent call last)",
      "Cell \u001b[0;32mIn[60], line 3\u001b[0m\n\u001b[1;32m      1\u001b[0m \u001b[38;5;66;03m# Print string as error message\u001b[39;00m\n\u001b[0;32m----> 3\u001b[0m \u001b[43mfrint\u001b[49m(\u001b[38;5;124m\"\u001b[39m\u001b[38;5;124mHello, Python!\u001b[39m\u001b[38;5;124m\"\u001b[39m)\n\u001b[1;32m      5\u001b[0m \u001b[38;5;66;03m# The error message tells you:\u001b[39;00m\n\u001b[1;32m      6\u001b[0m \u001b[38;5;66;03m# where the error occurred (more useful in large notebook cells or scripts), and\u001b[39;00m\n\u001b[1;32m      7\u001b[0m \u001b[38;5;66;03m# what kind of error it was (NameError)\u001b[39;00m\n\u001b[1;32m      8\u001b[0m \u001b[38;5;66;03m# Here, Python attempted to run the function frint, but could not determine what frint is since it's not a built-in function and it has not been previously defined by us either.\u001b[39;00m\n",
      "\u001b[0;31mNameError\u001b[0m: name 'frint' is not defined"
     ]
    }
   ],
   "source": [
    "# Print string as error message\n",
    "\n",
    "frint(\"Hello, Python!\")\n",
    "\n",
    "# The error message tells you:\n",
    "# where the error occurred (more useful in large notebook cells or scripts), and\n",
    "# what kind of error it was (NameError)\n",
    "# Here, Python attempted to run the function frint, but could not determine what frint is since it's not a built-in function and it has not been previously defined by us either."
   ]
  },
  {
   "cell_type": "code",
   "execution_count": 61,
   "metadata": {},
   "outputs": [
    {
     "name": "stdout",
     "output_type": "stream",
     "text": [
      "This will be printed\n"
     ]
    },
    {
     "ename": "NameError",
     "evalue": "name 'frint' is not defined",
     "output_type": "error",
     "traceback": [
      "\u001b[0;31m---------------------------------------------------------------------------\u001b[0m",
      "\u001b[0;31mNameError\u001b[0m                                 Traceback (most recent call last)",
      "Cell \u001b[0;32mIn[61], line 3\u001b[0m\n\u001b[1;32m      1\u001b[0m \u001b[38;5;66;03m# Print string and error to see the running order\u001b[39;00m\n\u001b[1;32m      2\u001b[0m \u001b[38;5;28mprint\u001b[39m(\u001b[38;5;124m\"\u001b[39m\u001b[38;5;124mThis will be printed\u001b[39m\u001b[38;5;124m\"\u001b[39m)\n\u001b[0;32m----> 3\u001b[0m \u001b[43mfrint\u001b[49m(\u001b[38;5;124m\"\u001b[39m\u001b[38;5;124mThis will cause an error\u001b[39m\u001b[38;5;124m\"\u001b[39m)\n\u001b[1;32m      4\u001b[0m \u001b[38;5;28mprint\u001b[39m(\u001b[38;5;124m\"\u001b[39m\u001b[38;5;124mThis will NOT be printed\u001b[39m\u001b[38;5;124m\"\u001b[39m)       \u001b[38;5;66;03m#not printed because of previous error; stops running at error\u001b[39;00m\n",
      "\u001b[0;31mNameError\u001b[0m: name 'frint' is not defined"
     ]
    }
   ],
   "source": [
    "# Print string and error to see the running order\n",
    "print(\"This will be printed\")\n",
    "frint(\"This will cause an error\")\n",
    "print(\"This will NOT be printed\")       #not printed because of previous error; stops running at error"
   ]
  },
  {
   "cell_type": "code",
   "execution_count": 66,
   "metadata": {},
   "outputs": [
    {
     "name": "stdout",
     "output_type": "stream",
     "text": [
      "<class 'float'>\n",
      "<class 'str'>\n",
      "<class 'int'>\n",
      "<class 'list'>\n",
      "<class 'tuple'>\n",
      "<class 'set'>\n"
     ]
    }
   ],
   "source": [
    "# You can get Python to tell you the type of an expression by using the built-in type() function. \n",
    "# You'll notice that Python refers to integers as int, floats as float, and character strings as str\n",
    "\n",
    "print(type(2.14))\n",
    "print(type(\"I'm hungry\"))\n",
    "print(type(3))\n",
    "print(type([3, 4, 5]))\n",
    "print(type((3, 4, 5)))\n",
    "print(type({3, 4, 5}))\n",
    "\n",
    "\n",
    "\n"
   ]
  },
  {
   "cell_type": "code",
   "execution_count": 67,
   "metadata": {},
   "outputs": [
    {
     "data": {
      "text/plain": [
       "sys.float_info(max=1.7976931348623157e+308, max_exp=1024, max_10_exp=308, min=2.2250738585072014e-308, min_exp=-1021, min_10_exp=-307, dig=15, mant_dig=53, epsilon=2.220446049250313e-16, radix=2, rounds=1)"
      ]
     },
     "execution_count": 67,
     "metadata": {},
     "output_type": "execute_result"
    }
   ],
   "source": [
    "sys.float_info  #tells you what's the largest and smallest number that can be represented\n"
   ]
  },
  {
   "cell_type": "code",
   "execution_count": 1,
   "metadata": {},
   "outputs": [
    {
     "ename": "ValueError",
     "evalue": "invalid literal for int() with base 10: '1 or 2 people'",
     "output_type": "error",
     "traceback": [
      "\u001b[0;31m---------------------------------------------------------------------------\u001b[0m",
      "\u001b[0;31mValueError\u001b[0m                                Traceback (most recent call last)",
      "Cell \u001b[0;32mIn[1], line 2\u001b[0m\n\u001b[1;32m      1\u001b[0m \u001b[38;5;66;03m#convert a string into an integer with error\u001b[39;00m\n\u001b[0;32m----> 2\u001b[0m \u001b[38;5;28;43mint\u001b[39;49m\u001b[43m(\u001b[49m\u001b[38;5;124;43m\"\u001b[39;49m\u001b[38;5;124;43m1 or 2 people\u001b[39;49m\u001b[38;5;124;43m\"\u001b[39;49m\u001b[43m)\u001b[49m\n",
      "\u001b[0;31mValueError\u001b[0m: invalid literal for int() with base 10: '1 or 2 people'"
     ]
    }
   ],
   "source": [
    "#convert a string into an integer with error\n",
    "int(\"1 or 2 people\")\n"
   ]
  },
  {
   "cell_type": "code",
   "execution_count": 3,
   "metadata": {},
   "outputs": [
    {
     "name": "stdout",
     "output_type": "stream",
     "text": [
      "1\n",
      "0.0\n",
      "True\n",
      "False\n",
      "1.0\n"
     ]
    }
   ],
   "source": [
    "# We can cast boolean objects to other data types. \n",
    "# If we cast a boolean with a value of True to an integer or float we will get a one. \n",
    "# If we cast a boolean with a value of False to an integer or float we will get a zero. \n",
    "# Similarly, if we cast a 1 to a Boolean, you get a True. \n",
    "# And if we cast a 0 to a Boolean we will get a False. \n",
    "\n",
    "print(int(True))        # convert True to integer\n",
    "print(float(False))     # convert False to a float\n",
    "print(bool(1))          # convert 1 to boolean\n",
    "print(bool(0))          # convert 0 to boolean\n",
    "print(float(True))      # convert true to float"
   ]
  },
  {
   "cell_type": "code",
   "execution_count": 4,
   "metadata": {},
   "outputs": [
    {
     "name": "stdout",
     "output_type": "stream",
     "text": [
      "104\n",
      "80\n"
     ]
    }
   ],
   "source": [
    "# lists vs tuples; lists are mutable vs tuples are immutable and cannot be changed\n",
    "# thus lists require more memory to remain in a 'changeable' state\n",
    "# tuples are of a fixed size\n",
    "\n",
    "import sys\n",
    "\n",
    "a_list = list()\n",
    "a_tuple = tuple()\n",
    "\n",
    "a_list = [1,2,3,4,5]\n",
    "a_tuple = (1,2,3,4,5)\n",
    "\n",
    "print(sys.getsizeof(a_list))\n",
    "print(sys.getsizeof(a_tuple))\n",
    "\n",
    "# Output:\n",
    "# 104 bytes for the list object\n",
    "# 80 bytes for the tuple object\n",
    "# https://builtin.com/software-engineering-perspectives/python-tuples-vs-lists"
   ]
  },
  {
   "cell_type": "code",
   "execution_count": 14,
   "metadata": {},
   "outputs": [
    {
     "name": "stdout",
     "output_type": "stream",
     "text": [
      "o\n",
      "k\n"
     ]
    },
    {
     "data": {
      "text/plain": [
       "15"
      ]
     },
     "execution_count": 14,
     "metadata": {},
     "output_type": "execute_result"
    }
   ],
   "source": [
    "\"Michael Jackson\"\n",
    "name = \"Michael Jackson\"\n",
    "name\n",
    "print(name[13])      # To access index 13 of the name string \n",
    "\n",
    "#make sure you use the right type of brackets: []; not()\n",
    "\n",
    "# For negative indexing\n",
    "print(name[-4])\n",
    "\n",
    "# To find the  number of characters in a string\n",
    "len(name)           # or len(\"Michael Jackson\")\n"
   ]
  },
  {
   "cell_type": "code",
   "execution_count": 17,
   "metadata": {},
   "outputs": [
    {
     "name": "stdout",
     "output_type": "stream",
     "text": [
      "Mich\n",
      "Jack\n"
     ]
    }
   ],
   "source": [
    "# Obtain multiple characters from a string using slicing\n",
    "# To obtain the 0 to 4th and 8th to the 12th element\n",
    "\n",
    "print(name[0:4])            # first number means start at index 0, the second number means the length from the index to the last element you want\n",
    "print(name[8:12])           # start at 8, end at 12, i.e. show letters 8-12 of name = 'Michael Jackson' \n"
   ]
  },
  {
   "cell_type": "code",
   "execution_count": 19,
   "metadata": {},
   "outputs": [
    {
     "name": "stdout",
     "output_type": "stream",
     "text": [
      "McalJcsn\n",
      "Mca\n"
     ]
    }
   ],
   "source": [
    "# For stride: we can input a stride value, with the '2' indicating that we are selecting every second variable\n",
    "\n",
    "print(name[::2])        # get every second element. The elements on index 1, 3, 5 ...\n",
    "\n",
    "# To incorporate slicing with the stride\n",
    "\n",
    "print(name[0:5:2])      # in this case, start at index 0 and end on index 5, printing every other index element (2)\n"
   ]
  },
  {
   "cell_type": "code",
   "execution_count": 22,
   "metadata": {},
   "outputs": [
    {
     "data": {
      "text/plain": [
       "'Michael Jackson is the best'"
      ]
     },
     "execution_count": 22,
     "metadata": {},
     "output_type": "execute_result"
    }
   ],
   "source": [
    "# To concatenate two strings\n",
    "\n",
    "statement = name + \" is the best\"           # you need to add a space at the beginning of the string\n",
    "statement\n"
   ]
  },
  {
   "cell_type": "code",
   "execution_count": 32,
   "metadata": {},
   "outputs": [
    {
     "name": "stdout",
     "output_type": "stream",
     "text": [
      "Michael Jackson is the bestMichael Jackson is the bestMichael Jackson is the best\n",
      "Michael Jackson is the best\n",
      "Michael Jackson is the bestMichael Jackson is the bestMichael Jackson is the best\n"
     ]
    }
   ],
   "source": [
    "# To print a string multiple times\n",
    "\n",
    "print(3 * name)\n",
    "\n",
    "# this is the same as the above: 3 * name\n",
    "\n",
    "# To create a new string using the original variable\n",
    "\n",
    "name = \"Michael Jackson\"\n",
    "name = name + \" is the best\"\n",
    "print(name)\n",
    "\n",
    "print(3*name)\n",
    "\n",
    "\n"
   ]
  },
  {
   "cell_type": "code",
   "execution_count": 36,
   "metadata": {},
   "outputs": [
    {
     "name": "stdout",
     "output_type": "stream",
     "text": [
      "Michael Jackson \n",
      " is the best\n",
      "Michael Jackson \t is the best\n",
      "Michael Jackson \\ is the best\n",
      "Michael Jackson \\ is the best\n"
     ]
    }
   ],
   "source": [
    "# New line escape sequences are used for strings that may be difficult to input: \\n\n",
    "\n",
    "print(\"Michael Jackson \\n is the best\")\n",
    "\n",
    "# Tab escape sequence: \\t\n",
    "\n",
    "print(\"Michael Jackson \\t is the best\")\n",
    "\n",
    "# If you want to place a back slash in your string, use a double back slash: \\\\\n",
    "\n",
    "print(\"Michael Jackson \\\\ is the best\")\n",
    "\n",
    "# can also use r before the string to add a back slash\n",
    "\n",
    "print(r\"Michael Jackson \\ is the best\")\n",
    "\n",
    "\n"
   ]
  },
  {
   "cell_type": "code",
   "execution_count": 38,
   "metadata": {},
   "outputs": [
    {
     "name": "stdout",
     "output_type": "stream",
     "text": [
      "Before upper: Thriller is the sixth studio album\n",
      "After upper: THRILLER IS THE SIXTH STUDIO ALBUM\n",
      "Janet Jackson is the best\n"
     ]
    }
   ],
   "source": [
    "# String operation methods\n",
    "\n",
    "# upper -> converts lower case characters to upper case characters\n",
    "\n",
    "a = \"Thriller is the sixth studio album\"\n",
    "print(\"Before upper:\", a)\n",
    "b = a.upper()\n",
    "print(\"After upper:\", b)\n",
    "\n",
    "# To replace a segment of a string, i.e. a substring with a new string\n",
    "# we input the part of the string we would like to change\n",
    "# the second argument is what we would like to exchange the segment with, resulting in a new string with the segment changed\n",
    "\n",
    "a = \"Michael Jackson is the best\"\n",
    "b = a.replace('Michael', 'Janet')\n",
    "print(b)"
   ]
  },
  {
   "cell_type": "code",
   "execution_count": 42,
   "metadata": {},
   "outputs": [
    {
     "name": "stdout",
     "output_type": "stream",
     "text": [
      "5\n",
      "8\n",
      "-1\n"
     ]
    }
   ],
   "source": [
    "# To find a substring\n",
    "\n",
    "name = \"Michael Jackson\"\n",
    "print(name.find('el'))\n",
    "\n",
    "# Find the substring in the string\n",
    "\n",
    "print(name.find('Jack'))\n",
    "\n",
    "# If the substring is not present in the string, you get a negative number\n",
    "\n",
    "print(name.find('hello'))\n",
    "\n",
    "\n"
   ]
  }
 ],
 "metadata": {
  "kernelspec": {
   "display_name": "Python 3.10.7 64-bit",
   "language": "python",
   "name": "python3"
  },
  "language_info": {
   "codemirror_mode": {
    "name": "ipython",
    "version": 3
   },
   "file_extension": ".py",
   "mimetype": "text/x-python",
   "name": "python",
   "nbconvert_exporter": "python",
   "pygments_lexer": "ipython3",
   "version": "3.10.7"
  },
  "orig_nbformat": 4,
  "vscode": {
   "interpreter": {
    "hash": "aee8b7b246df8f9039afb4144a1f6fd8d2ca17a180786b69acc140d282b71a49"
   }
  }
 },
 "nbformat": 4,
 "nbformat_minor": 2
}
