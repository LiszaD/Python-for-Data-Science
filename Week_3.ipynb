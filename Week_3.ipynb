{
 "cells": [
  {
   "cell_type": "markdown",
   "metadata": {},
   "source": [
    "Conditions\n",
    "\n",
    "- comparison operations compare some value or operand and based on some condition, they produce a Boolean\n",
    "\n",
    "egual: ==\n",
    "not equal: !=               # if two operands are not equal the condition becomes True; if they are equal, it becomes False\n",
    "greater than: >\n",
    "less than: <\n",
    "greater than or equal to: >=\n",
    "less than or equal to: <=\n",
    "\n",
    "\n"
   ]
  },
  {
   "cell_type": "code",
   "execution_count": null,
   "metadata": {},
   "outputs": [],
   "source": [
    "\n",
    "x = 6\n",
    "print(x==7)                # is x equal to 7\n",
    "\n",
    "print(x > 5)\n",
    "\n",
    "y = 4\n",
    "print(y >= 5)\n",
    "\n",
    "# inequality test (or inequality operator) uses an exclamation mark preceding the equal sign eg: 'y!=5'\n",
    "print(y!=5)\n",
    "print(y!=4)\n",
    "\n",
    "#can compare strings as well\n",
    "\n",
    "print(\"AC/DC\"==\"Michael Jackson\")\n",
    "print(\"AC/DC\"!=\"Michael Jackson\")\n",
    "\n",
    "\n",
    "\n"
   ]
  },
  {
   "cell_type": "code",
   "execution_count": null,
   "metadata": {},
   "outputs": [],
   "source": [
    "# Conditions\n",
    "\n",
    "age = 18\n",
    "\n",
    "# if (age>18):\n",
    "#     print(\"you can enter\")\n",
    "# else:\n",
    "#     print(\"go see Meat Loaf\")\n",
    "# print(\"move on\")\n",
    "\n",
    "if (age>18):\n",
    "    print(\"You can enter\")\n",
    "elif(age==18):\n",
    "    print(\"Go see Pink Floyd\")\n",
    "else: \n",
    "    print(\"Go see Meat Loaf\")\n",
    "print(\"Move on\")\n"
   ]
  },
  {
   "cell_type": "markdown",
   "metadata": {},
   "source": [
    "Logic operations & branching\n",
    "\n",
    "- take Boolean values and produce different Boolean values\n",
    "- branching allows us to run different statements for different inputs"
   ]
  },
  {
   "cell_type": "code",
   "execution_count": null,
   "metadata": {},
   "outputs": [],
   "source": [
    "False\n",
    "not(False)\n",
    "\n",
    "# 'or'\n",
    "\n",
    "album_year = 1990\n",
    "if (album_year<1980) or (album_year>1989):\n",
    "    print(\"The Album was made in the 70's or 90's\")\n",
    "else:\n",
    "    print(\"The Album was made in the 1980's\")\n",
    "\n",
    "\n",
    "\n"
   ]
  },
  {
   "cell_type": "code",
   "execution_count": null,
   "metadata": {},
   "outputs": [],
   "source": [
    "# 'and'\n",
    "\n",
    "album_year = 2008\n",
    "if (album_year>1979) and (album_year<1990):\n",
    "    print(\"This album was made in the 80's\")\n",
    "elif (album_year>=1990) and (album_year<=2000):\n",
    "    print(\"This album was made in the 90's\")\n",
    "elif (album_year>=2001) and (album_year<=2010):\n",
    "    print(\"This album was made in the 00's\")\n",
    "else:\n",
    "    print(\"No idea when this album was made!\")\n",
    "\n",
    "\n",
    "\n"
   ]
  },
  {
   "cell_type": "code",
   "execution_count": null,
   "metadata": {},
   "outputs": [],
   "source": [
    "album_year = 2008\n",
    "if (album_year>1979) and (album_year<1990) or (album_year>=1990) and (album_year<=2000) or (album_year>=2001) and (album_year<=2010):\n",
    "    print(\"The album year is known\")\n",
    "else:\n",
    "    print(\"No idea when this album was made!\")\n"
   ]
  },
  {
   "cell_type": "markdown",
   "metadata": {},
   "source": [
    "Range function\n",
    "\n",
    "range(N) function outputs an ordered sequence as a list I\n",
    "- if the input is a positive integer, the output is a sequence; sequence contains the same number of elements as the input but starts at zero\n",
    "- if there are two inputs where the first is smaller than the second input\n",
    "- the output is a sequence that starts at the first input; then the sequence iterates up to but not including the second number\n",
    "\n",
    "range(N) --> [0,..,N-1]\n",
    "eg. range(3) --> [0,1,2]\n",
    "range(10,15) -->[10,11,12,13,14]\n",
    "\n"
   ]
  },
  {
   "cell_type": "markdown",
   "metadata": {},
   "source": [
    "For Loops\n",
    "\n",
    "- perform a task over and over; execute a code block multiple times\n",
    "- use it if you want to print out every element in a list\n",
    "- can be used for lists and tuples"
   ]
  },
  {
   "cell_type": "code",
   "execution_count": null,
   "metadata": {},
   "outputs": [],
   "source": [
    "# For loop example\n",
    "\n",
    "dates = [1982,1980,1973]\n",
    "N = len(dates)\n",
    "# print(N)\n",
    "\n",
    "for i in range(N):              # The code in the indent is executed N times, each time the value of i is increased by 1 for every execution; N=3; index: 0,1,2\n",
    "    print(dates[i])\n",
    "\n"
   ]
  },
  {
   "cell_type": "code",
   "execution_count": null,
   "metadata": {},
   "outputs": [],
   "source": [
    "# Write a for loop that prints out the following list: squares=['red', 'yellow', 'green', 'purple', 'blue']\n",
    "\n",
    "squares=['red', 'yellow', 'green', 'purple', 'blue']\n",
    "\n",
    "for square in squares:\n",
    "    print(square)"
   ]
  },
  {
   "cell_type": "code",
   "execution_count": null,
   "metadata": {},
   "outputs": [],
   "source": [
    "# For loop\n",
    "\n",
    "# squares=['red', 'yellow', 'green', 'purple', 'blue']\n",
    "# for i in range(0,5):            # everything in the indent is performed; indent below is important\n",
    "#     squares[i]='white'          # process continues/loops back until the final element (5) is reached\n",
    "# print(squares)\n",
    "\n",
    "squares=['red', 'yellow', 'green']\n",
    "for square in squares:\n",
    "    print(square)\n",
    "\n"
   ]
  },
  {
   "cell_type": "code",
   "execution_count": null,
   "metadata": {},
   "outputs": [],
   "source": [
    "# Example of for loop, loop through list\n",
    "\n",
    "# for year in dates:\n",
    "#     print(year)\n",
    "\n",
    "\n",
    "# # Can change the elements of a list\n",
    "\n",
    "# squares = ['red', 'yellow', 'green', 'purple', 'blue']\n",
    "# for i in range(0, 5):\n",
    "#     print('Before square', i, 'is', squares[i])\n",
    "#     squares[i] = 'white'\n",
    "#     print('After square', i, 'is', squares[i])\n",
    "\n",
    "# To access the index and the elements of a list\n",
    "\n",
    "squares=['red', 'yellow', 'green', 'purple', 'blue']\n",
    "\n",
    "for i, square in enumerate(squares):                # useful for obtaining an indexed list\n",
    "    print (i, square)"
   ]
  },
  {
   "cell_type": "code",
   "execution_count": null,
   "metadata": {},
   "outputs": [],
   "source": [
    "# enumerate\n",
    "# argument of the function enumerate is the list\n",
    "\n",
    "squares=['red', 'yellow', 'green']          \n",
    " # in this case, the variable i is the index   \n",
    " # and the variable square is the corresponding element in the list\n",
    "for i, square in enumerate(squares):\n",
    "    print(square, i)                       # only need print to see the result\n",
    "    "
   ]
  },
  {
   "cell_type": "markdown",
   "metadata": {},
   "source": [
    "While loops\n",
    "- similar to for loops but instead of executing a statement a set number of times, a while loop will only run if a condition is met\n",
    "- the for loop is used for a controlled flow of repetition\n",
    "- if we don't know when we want to stopp the loop, the while loop can be used\n",
    "- use if we want to keep executing a code block until a certain condition is met\n",
    "- while loop exists as a tool for repeated execution based on a condition\n",
    "- the code block will keep being executed until the given logical condition returns a False boolean value\n",
    "\n",
    "\n"
   ]
  },
  {
   "cell_type": "code",
   "execution_count": null,
   "metadata": {},
   "outputs": [],
   "source": [
    "# While loop example\n",
    "\n",
    "dates = [1982, 1980, 1973, 2000]\n",
    "\n",
    "i = 0\n",
    "year = dates[0]\n",
    "\n",
    "while(year != 1973):\n",
    "    print(year)\n",
    "    i = i + 1\n",
    "    year = dates[i]\n",
    "\n",
    "print(\"It took\", i, \"repetitions to get out of the loop.\")"
   ]
  },
  {
   "cell_type": "code",
   "execution_count": null,
   "metadata": {},
   "outputs": [],
   "source": [
    "squares=['orange','orange','purple','orange','blue']\n",
    "Newsquares=[]                                       # we start an empty list; in reality it's of indeterminate size\n",
    "i=0\n",
    "while(squares[i]=='orange'):                        # carries out the indent below until the condition in the bracket is false\n",
    "   Newsquares.append(squares[i])                    # append the value of the first element of the list squares to the list Newsquares\n",
    "   i=i+1                                            # We increase the value of I by 1; we append the values of the second element of the list squares to the list Newsquares\n",
    "# We increment the value of I; now the value in the array squares is 'purple'; \n",
    "# therefore, the condition for the while statement is false and we exit the loop\n",
    "   Newsquares\n",
    "print(Newsquares)\n",
    "\n"
   ]
  },
  {
   "cell_type": "code",
   "execution_count": null,
   "metadata": {},
   "outputs": [],
   "source": [
    "# While Loop Example\n",
    "\n",
    "dates = [1982, 1980, 1973, 2000]\n",
    "\n",
    "i = 0\n",
    "year = dates[0]\n",
    "\n",
    "while(year != 1973):    \n",
    "    print(year)\n",
    "    i = i + 1\n",
    "    year = dates[i]\n",
    "    \n",
    "\n",
    "print(\"It took \", i ,\"repetitions to get out of loop.\")"
   ]
  },
  {
   "cell_type": "code",
   "execution_count": null,
   "metadata": {},
   "outputs": [],
   "source": [
    "PlayListRatings = [10, 9.5, 10, 8, 7.5, 5, 10, 10]\n",
    "i = 0\n",
    "rating = PlayListRatings[0]\n",
    "while(i < len(PlayListRatings) and rating >= 6):\n",
    "    print(rating)\n",
    "    i = i + 1 \n",
    "    rating = PlayListRatings[i]  "
   ]
  },
  {
   "cell_type": "code",
   "execution_count": 84,
   "metadata": {},
   "outputs": [
    {
     "name": "stdout",
     "output_type": "stream",
     "text": [
      "['orange', 'orange']\n"
     ]
    }
   ],
   "source": [
    "# write a while loop to copy the strings 'orange' of the list squares to the list new_squares. Stop and exit the loop if the value\n",
    "# on the list is not 'orange'\n",
    "squares = ['orange', 'orange', 'purple', 'blue ', 'orange']\n",
    "strings=[]                  # currently undefined, but is define for later use\n",
    "i = 0\n",
    "\n",
    "while (squares[i] == 'orange'):\n",
    "    strings.append(squares[i])\n",
    "    i = i + 1\n",
    "    strings\n",
    "print(strings)\n",
    "\n",
    "# squares = ['orange', 'orange', 'purple', 'blue ', 'orange']\n",
    "# new_squares = []\n",
    "# i = 0\n",
    "# while(i < len(squares) and squares[i] == 'orange'):\n",
    "#     new_squares.append(squares[i])\n",
    "#     i = i + 1\n",
    "# print (new_squares)\n",
    "\n",
    "\n",
    "    \n",
    "\n"
   ]
  },
  {
   "cell_type": "markdown",
   "metadata": {},
   "source": [
    "The for loop specifies\n",
    "\n",
    "- the variable name to use (in this case, planet)\n",
    "- the set of values to loop over (in this case, planets)\n",
    "- You use the word \"in\" to link them together.\n",
    "\n",
    "- The object to the right of the \"in\" can be any object that supports iteration.\n",
    "- Basically, if it can be thought of as a group of things, you can probably loop over it.\n",
    "- In addition to lists, we can iterate over the elements of a tuple"
   ]
  },
  {
   "cell_type": "code",
   "execution_count": 87,
   "metadata": {},
   "outputs": [
    {
     "name": "stdout",
     "output_type": "stream",
     "text": [
      "Mercury Venus Earth Mars Jupiter Saturn Uranus Neptune "
     ]
    }
   ],
   "source": [
    "planets = ['Mercury', 'Venus', 'Earth', 'Mars', 'Jupiter', 'Saturn', 'Uranus', 'Neptune']\n",
    "for planet in planets:\n",
    "    print(planet, end=' ') # print all on same line: , end=''"
   ]
  },
  {
   "cell_type": "code",
   "execution_count": 163,
   "metadata": {},
   "outputs": [
    {
     "name": "stdout",
     "output_type": "stream",
     "text": [
      "2\n",
      "2\n",
      "2\n",
      "3\n",
      "3\n",
      "5\n"
     ]
    },
    {
     "data": {
      "text/plain": [
       "360"
      ]
     },
     "execution_count": 163,
     "metadata": {},
     "output_type": "execute_result"
    }
   ],
   "source": [
    "multiplicands = (2, 2, 2, 3, 3, 5)\n",
    "product = 1\n",
    "    \n",
    "for mult in multiplicands:                 \n",
    "    product = product * mult\n",
    "    print(mult)                              # the value of the product variable is changed at the end of each loop; the answer of a loop moves up to loop again with the next nult\n",
    "product                                     \n",
    "\n",
    "# function loops through all values of multiplands: 2, 2, 2, 3, 3, 5 & stops when last value is used\n",
    "# first loop: product = 1 * 2\n",
    "# second loop: product = (answer of previous product output) 2 * 2\n",
    "# third loop:   product = (answer of second loop output) 4 * 2\n",
    "# fourth loop:  product = (answer of third loop output) 8 * 3\n",
    "# fifth loop:   product = (answer of fourth loop output) 24 * 3\n",
    "# sixth loop: product = (answer of fifth loop output) 72 * 5\n",
    "# final product value is output of sixth loop: 360\n"
   ]
  },
  {
   "cell_type": "code",
   "execution_count": 102,
   "metadata": {},
   "outputs": [
    {
     "name": "stdout",
     "output_type": "stream",
     "text": [
      "360\n"
     ]
    }
   ],
   "source": [
    "x = 2*2*2*3*3*5\n",
    "print(x)\n"
   ]
  },
  {
   "cell_type": "code",
   "execution_count": null,
   "metadata": {},
   "outputs": [],
   "source": []
  },
  {
   "cell_type": "code",
   "execution_count": 103,
   "metadata": {},
   "outputs": [
    {
     "name": "stdout",
     "output_type": "stream",
     "text": [
      "HELLO"
     ]
    }
   ],
   "source": [
    "# to return all upper case letters in a string with 'for'\n",
    "\n",
    "s = 'steganograpHy is the practicE of conceaLing a file, message, image, or video within another fiLe, message, image, Or video.'\n",
    "\n",
    "char = []\n",
    "\n",
    "for char in s:\n",
    "    if char.isupper():\n",
    "        print(char, end='') "
   ]
  },
  {
   "cell_type": "code",
   "execution_count": 108,
   "metadata": {},
   "outputs": [
    {
     "name": "stdout",
     "output_type": "stream",
     "text": [
      "False\n",
      "HELLO"
     ]
    }
   ],
   "source": [
    "s = 'steganograpHy is the practicE of conceaLing a file, message, image, or video within another fiLe, message, image, Or video.'\n",
    "print(s.isupper())              # returns True if all letters are upper case; otherwise it's false\n",
    "\n",
    "char = []\n",
    "\n",
    "for char in s:\n",
    "    if char.isupper():\n",
    "        print(char, end='')\n",
    "        \n",
    "\n",
    "\n",
    "\n",
    "\n"
   ]
  },
  {
   "cell_type": "code",
   "execution_count": 113,
   "metadata": {},
   "outputs": [
    {
     "name": "stdout",
     "output_type": "stream",
     "text": [
      "Mercury Venus Earth Mars Jupiter Saturn Uranus Neptune ['Venus', 'Earth', 'Mars']\n",
      "['VENUS!', 'EARTH!', 'MARS!']\n"
     ]
    },
    {
     "data": {
      "text/plain": [
       "[32, 32, 32, 32, 32, 32, 32, 32]"
      ]
     },
     "execution_count": 113,
     "metadata": {},
     "output_type": "execute_result"
    }
   ],
   "source": [
    "planets = ['Mercury', 'Venus', 'Earth', 'Mars', 'Jupiter', 'Saturn', 'Uranus', 'Neptune']\n",
    "for planet in planets:\n",
    "    print(planet, end=' ')\n",
    "\n",
    "short_planets = [planet for planet in planets if len(planet) < 6]                           # include strings with less than 6 characters\n",
    "print(short_planets)\n",
    "\n",
    "loud_short_planets = [planet.upper() + '!' for planet in planets if len(planet) < 6]        # change all letters in strings to capital letters\n",
    "print(loud_short_planets)\n",
    "\n",
    "[32 for planet in planets]"
   ]
  },
  {
   "cell_type": "code",
   "execution_count": 116,
   "metadata": {},
   "outputs": [
    {
     "data": {
      "text/plain": [
       "[1, 3, 10, 3, 23, 8]"
      ]
     },
     "execution_count": 116,
     "metadata": {},
     "output_type": "execute_result"
    }
   ],
   "source": [
    "album_ratings = [1, 3, 10, 3, 23, 8]\n",
    "sorted(album_ratings)\n",
    "album_ratings\n"
   ]
  },
  {
   "cell_type": "code",
   "execution_count": 125,
   "metadata": {},
   "outputs": [
    {
     "name": "stdout",
     "output_type": "stream",
     "text": [
      "7\n",
      "5\n",
      "77\n",
      "Help on function ahhhh in module __main__:\n",
      "\n",
      "ahhhh(a)\n",
      "    add 1 to a                  # called a documentation string; used to explain function\n",
      "\n"
     ]
    }
   ],
   "source": [
    "def ahhhh(a):\n",
    "    \"\"\" \n",
    "    add 1 to a                  # called a documentation string; used to explain function \n",
    "    \"\"\"\n",
    "    beee = a + 1\n",
    "    return beee\n",
    "print(ahhhh(6))\n",
    "print(ahhhh(4))\n",
    "def llllll(b, c, d):\n",
    "    blaaa = b + c + d + 50\n",
    "    return blaaa\n",
    "print(llllll(12, 3, 12))\n",
    "\n",
    "help(ahhhh)                     # if you use a documentation string, using help will give you the function purpose or whatever was in the \"\"\"   \"\"\"\n",
    "\n",
    "\n",
    "\n",
    "\n",
    "\n",
    "\n",
    "\n"
   ]
  },
  {
   "cell_type": "code",
   "execution_count": 129,
   "metadata": {},
   "outputs": [
    {
     "name": "stdout",
     "output_type": "stream",
     "text": [
      "None\n"
     ]
    }
   ],
   "source": [
    "def NoWork():\n",
    "    pass\n",
    "print(NoWork())\n"
   ]
  },
  {
   "cell_type": "code",
   "execution_count": 131,
   "metadata": {},
   "outputs": [
    {
     "name": "stdout",
     "output_type": "stream",
     "text": [
      "a1\n",
      "b1\n",
      "c1\n"
     ]
    }
   ],
   "source": [
    "def rrint(A):\n",
    "    for a in A:\n",
    "        print(a + '1')\n",
    "\n",
    "rrint(['a', 'b', 'c'])\n"
   ]
  },
  {
   "cell_type": "code",
   "execution_count": 146,
   "metadata": {},
   "outputs": [
    {
     "name": "stdout",
     "output_type": "stream",
     "text": [
      "zero or greater than zero\n"
     ]
    }
   ],
   "source": [
    "def Equation(a2,b2):\n",
    "    c2 = a2 + b2 + 2 * a2 * b2 - 1\n",
    "    if(c2 < 0):\n",
    "        c2 = 'less than zero'\n",
    "    else:\n",
    "        c2 = 'zero or greater than zero'\n",
    "    return(c2)\n",
    "\n",
    "a2 = 3\n",
    "b2 = 2\n",
    "c2 = Equation(a2, b2)\n",
    "print(c2)\n"
   ]
  },
  {
   "cell_type": "code",
   "execution_count": 150,
   "metadata": {},
   "outputs": [
    {
     "name": "stdout",
     "output_type": "stream",
     "text": [
      "1\n",
      "1\n",
      "the man\n",
      "abc\n"
     ]
    }
   ],
   "source": [
    "def PrintList(the_list):\n",
    "    for element in the_list:\n",
    "        print(element)\n",
    "\n",
    "PrintList(['1', 1, 'the man', \"abc\"])\n"
   ]
  },
  {
   "cell_type": "code",
   "execution_count": 151,
   "metadata": {},
   "outputs": [
    {
     "name": "stdout",
     "output_type": "stream",
     "text": [
      "this album sucks it's rating is 4\n",
      "this album is good its rating is 10\n"
     ]
    }
   ],
   "source": [
    "def isGoodRating(rating=4): \n",
    "    if(rating < 7):\n",
    "        print(\"this album sucks it's rating is\",rating)\n",
    "        \n",
    "    else:\n",
    "        print(\"this album is good its rating is\",rating)\n",
    "\n",
    "isGoodRating()\n",
    "isGoodRating(10)"
   ]
  },
  {
   "cell_type": "code",
   "execution_count": 154,
   "metadata": {},
   "outputs": [
    {
     "data": {
      "text/plain": [
       "1.0"
      ]
     },
     "execution_count": 154,
     "metadata": {},
     "output_type": "execute_result"
    }
   ],
   "source": [
    "def this_function(A,B):\n",
    "    x = A/B\n",
    "    return(x)\n",
    "    \n",
    "A = 4\n",
    "B = 4\n",
    "this_function(A, B)\n",
    "\n",
    "# def div(a, b):\n",
    "#   return(a/b)"
   ]
  },
  {
   "cell_type": "code",
   "execution_count": 158,
   "metadata": {},
   "outputs": [
    {
     "data": {
      "text/plain": [
       "(2, 3, 4, 2, 3, 4)"
      ]
     },
     "execution_count": 158,
     "metadata": {},
     "output_type": "execute_result"
    }
   ],
   "source": [
    "def con(a, b):\n",
    "    return(a + b)\n",
    "\n",
    "# Can the con function we defined before be used to add two integers or strings?\n",
    "\n",
    "a = (2,3,4)\n",
    "b = (2,3,4)\n",
    "con(a,b)\n"
   ]
  },
  {
   "cell_type": "code",
   "execution_count": null,
   "metadata": {},
   "outputs": [],
   "source": []
  }
 ],
 "metadata": {
  "kernelspec": {
   "display_name": "Python 3.10.7 64-bit",
   "language": "python",
   "name": "python3"
  },
  "language_info": {
   "codemirror_mode": {
    "name": "ipython",
    "version": 3
   },
   "file_extension": ".py",
   "mimetype": "text/x-python",
   "name": "python",
   "nbconvert_exporter": "python",
   "pygments_lexer": "ipython3",
   "version": "3.10.7"
  },
  "orig_nbformat": 4,
  "vscode": {
   "interpreter": {
    "hash": "aee8b7b246df8f9039afb4144a1f6fd8d2ca17a180786b69acc140d282b71a49"
   }
  }
 },
 "nbformat": 4,
 "nbformat_minor": 2
}
