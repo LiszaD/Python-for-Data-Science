{
 "cells": [
  {
   "cell_type": "code",
   "execution_count": 7,
   "metadata": {},
   "outputs": [
    {
     "name": "stdout",
     "output_type": "stream",
     "text": [
      "120\n"
     ]
    }
   ],
   "source": [
    "def cost_of_project(engraving, solid_gold):\n",
    "    \n",
    "    if solid_gold == True:\n",
    "        solid_gold_rings = 100 + (len(engraving)) * 10                    # is total number of letters and spaces\n",
    "        cost = solid_gold_rings\n",
    "                                                                   \n",
    "    else: \n",
    "        gold_plated_rings = 50 + (len(engraving)) * 7\n",
    "        cost = gold_plated_rings\n",
    "    \n",
    "    return cost \n",
    "\n",
    "project_two = cost_of_project(\"08/10/2000\", False)\n",
    "\n",
    "print(project_two)\n"
   ]
  },
  {
   "cell_type": "code",
   "execution_count": null,
   "metadata": {},
   "outputs": [],
   "source": []
  }
 ],
 "metadata": {
  "kernelspec": {
   "display_name": "Python 3.10.7 64-bit",
   "language": "python",
   "name": "python3"
  },
  "language_info": {
   "codemirror_mode": {
    "name": "ipython",
    "version": 3
   },
   "file_extension": ".py",
   "mimetype": "text/x-python",
   "name": "python",
   "nbconvert_exporter": "python",
   "pygments_lexer": "ipython3",
   "version": "3.10.7"
  },
  "orig_nbformat": 4,
  "vscode": {
   "interpreter": {
    "hash": "aee8b7b246df8f9039afb4144a1f6fd8d2ca17a180786b69acc140d282b71a49"
   }
  }
 },
 "nbformat": 4,
 "nbformat_minor": 2
}
