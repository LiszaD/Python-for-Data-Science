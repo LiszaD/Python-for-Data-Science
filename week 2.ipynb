{
 "cells": [
  {
   "cell_type": "code",
   "execution_count": 2,
   "metadata": {},
   "outputs": [
    {
     "name": "stdout",
     "output_type": "stream",
     "text": [
      "('disco', 10, 1.2, 'hard rock', 10)\n"
     ]
    }
   ],
   "source": [
    "# List and tuples\n",
    "# both are ordered sequences: for tuple (); for list[]\n",
    "tuple1 = (\"disco\", 10, 1.2)             \n",
    "# indexing is the same as a before (indexing the letters of a word in a string); \n",
    "# from left to right, start with zero\n",
    "# from right to left, start with -1\n",
    "tuple2 = tuple1 + (\"hard rock\", 10)     # you can concatenate tuples (combine them)\n",
    "print(tuple2)\n"
   ]
  },
  {
   "cell_type": "code",
   "execution_count": 40,
   "metadata": {},
   "outputs": [
    {
     "name": "stdout",
     "output_type": "stream",
     "text": [
      "<class 'str'>\n",
      "<class 'int'>\n",
      "<class 'float'>\n"
     ]
    }
   ],
   "source": [
    "# Print the type of value on each index\n",
    "tuple1 = ('disco', 10, 1.2)\n",
    "print(type(tuple1[0]))\n",
    "print(type(tuple1[1]))\n",
    "print(type(tuple1[2]))"
   ]
  },
  {
   "cell_type": "code",
   "execution_count": 3,
   "metadata": {},
   "outputs": [
    {
     "data": {
      "text/plain": [
       "('disco', 10, 1.2)"
      ]
     },
     "execution_count": 3,
     "metadata": {},
     "output_type": "execute_result"
    }
   ],
   "source": [
    "# Slicing tuples\n",
    "\n",
    "tuple1 = (\"disco\", 10, 1.2) \n",
    "tuple2 = tuple1 + (\"hard rock\", 10)     \n",
    "\n",
    "# index would be from left to right (0, 1, 2, 3, 4): tuple2 = (\"disco\", 10, 1.2, \"hard rock\", 10)\n",
    "\n",
    "tuple2[0:3]         # slicing calls out starting from the '0'th index number and stopping at the 3rd, that is, the last index is larger than the one you want\n",
    "tuple2[3:5]         # the command contains an index number that is one larger than is present (it's 0, 1, 2, 3, 4) -->there is no 5, but require one above the one you want \n",
    "\n"
   ]
  },
  {
   "cell_type": "code",
   "execution_count": 4,
   "metadata": {},
   "outputs": [
    {
     "data": {
      "text/plain": [
       "5"
      ]
     },
     "execution_count": 4,
     "metadata": {},
     "output_type": "execute_result"
    }
   ],
   "source": [
    "# to obtain the length of a tuple\n",
    "\n",
    "len((\"disco\", 10, 1.2, \"hard rock\", 10))        # indexing is 0-4, but the length is 5 since there are 5 elements\n"
   ]
  },
  {
   "cell_type": "code",
   "execution_count": 6,
   "metadata": {},
   "outputs": [
    {
     "name": "stdout",
     "output_type": "stream",
     "text": [
      "[2, 5, 6, 6, 8, 9, 9, 10, 10]\n"
     ]
    }
   ],
   "source": [
    "# tuples are immutable and unchangeable; \n",
    "# to manipulate a tuple, must create a new tuple instead\n",
    "\n",
    "Ratings = (10, 9, 6, 5, 10, 8, 9, 6, 2)\n",
    "\n",
    "# To sort a tuple, use the function 'sorted' \n",
    "\n",
    "RatingsSorted = sorted(Ratings)     #input: original tuple (denoted by ()); output: a new sorted list (denoted by [])\n",
    "print(RatingsSorted)\n",
    "\n"
   ]
  },
  {
   "cell_type": "code",
   "execution_count": 16,
   "metadata": {},
   "outputs": [
    {
     "data": {
      "text/plain": [
       "2"
      ]
     },
     "execution_count": 16,
     "metadata": {},
     "output_type": "execute_result"
    }
   ],
   "source": [
    "# Nesting tuples\n",
    "\n",
    "NT = (1,2,(\"pop\", \"rock\"),(3,4),(\"disco\",(1,2)))\n",
    "# indexing for above, is 0, 1, 2 (includes \"pop\", \"rock\"), 3 (includes 3,4), 4 (includes \"disco\", (1,2))\n",
    "\n",
    "NT[2]           # output: \"pop\", \"rock\"; indexing would be: 0, 1\n",
    "NT[2][1]        # selecting index 1 of the 3rd element (which is called 2); so #1 within #2\n",
    "\n",
    "# visualize nested tuples as a tree\n",
    "# element 0 = 1; input: NT[0]\n",
    "# element 1 = 2; input: NT[1]\n",
    "# element 2 = (\"pop\", \"rock\"); input: NT[2]; to access nested tuple, input: NT[2][0] or NT[2][1] --> output is \"pop\" and \"rock\", respectively\n",
    "# element 3 = (3, 4); input: NT[3]; NT[3][0] or NT[3][1]\n",
    "# element 4 = (\"disco\", (1,2)); input: NT[4] or NT[4][0] or NT[4][1] or N[4][1][0] or N[4][1][1]\n",
    "# Can access different characters in a string:\n",
    "\n",
    "NT[2][1][0]\n",
    "# NT[2][1][1]\n",
    "NT[4][1][1]\n"
   ]
  },
  {
   "cell_type": "code",
   "execution_count": 20,
   "metadata": {},
   "outputs": [
    {
     "data": {
      "text/plain": [
       "['Michael Jackson', 10.1, 1982, 'MJ', 1, 'pop', 10]"
      ]
     },
     "execution_count": 20,
     "metadata": {},
     "output_type": "execute_result"
    }
   ],
   "source": [
    "# Lists; are mutable; same conventions apply for indexing and nesting for lists (as tuples)\n",
    "# each element can be accessed via an index (like before)\n",
    "# Slicing is the same as above\n",
    "# can combine or concatenate lists\n",
    "\n",
    "\n",
    "L = [\"Michael Jackson\", 10.1, 1982, \"MJ\", 1]         # creating a list\n",
    "L[2]                                        # accessing an element\n",
    "L[3:5]                                      # slicing a list; note: last index is one larger than the length of the list \n",
    "L1 = L + [\"pop\", 10]                        # output: ['Michael Jackson', 10.1, 1982, 'MJ', 1, 'pop', 10]\n",
    "L1\n",
    "\n"
   ]
  },
  {
   "cell_type": "code",
   "execution_count": 23,
   "metadata": {},
   "outputs": [
    {
     "data": {
      "text/plain": [
       "['Michael Jackson', 10.1, 1982, ['pop', 10]]"
      ]
     },
     "execution_count": 23,
     "metadata": {},
     "output_type": "execute_result"
    }
   ],
   "source": [
    "# Lists are mutable; to extend a list, use \"L.extend\"; adds to the original list, don't need to create a new list\n",
    "\n",
    "L = ['Michael Jackson', 10.1, 1982]\n",
    "# L.extend([\"pop\", 10])         # output: ['Michael Jackson', 10.1, 1982, 'pop', 10]; indexing: 0, 1, 2, 3, 4\n",
    "# L\n",
    "\n",
    "# Similar to extend, you can use 'append'; this will create only one more element added to the list, not two as above\n",
    "\n",
    "L.append([\"pop\", 10])           # output: 'Michael Jackson', 10.1, 1982, ['pop', 10]]; indexing: 0, 1, 2, 3\n",
    "L\n"
   ]
  },
  {
   "cell_type": "code",
   "execution_count": 27,
   "metadata": {},
   "outputs": [
    {
     "data": {
      "text/plain": [
       "['hard rock', 1.2]"
      ]
     },
     "execution_count": 27,
     "metadata": {},
     "output_type": "execute_result"
    }
   ],
   "source": [
    "# To change a list\n",
    "\n",
    "A = [\"disco\", 10, 1.2]      # output: [\"disco\", 10, 1.2]\n",
    "\n",
    "# To replace an element with a new element:\n",
    "\n",
    "A[0] = \"hard rock\"          # output is a new list with the same name: [\"hard rock\", 10, 1.2]\n",
    "\n",
    "# To delete an item in a list:\n",
    "\n",
    "# del(A[0])                   # output is now [10. 1.2]\n",
    "# A\n",
    "del(A[1])\n",
    "A"
   ]
  },
  {
   "cell_type": "code",
   "execution_count": 29,
   "metadata": {},
   "outputs": [
    {
     "data": {
      "text/plain": [
       "['A', ' B', ' C', ' D']"
      ]
     },
     "execution_count": 29,
     "metadata": {},
     "output_type": "execute_result"
    }
   ],
   "source": [
    "# To convert a string into a list, use '.split'; will turn each word of a string separated by a space into an item of the list\n",
    "\n",
    "\"hard rock\".split()         # output: [\"hard\", \"rock\"]\n",
    "\n",
    "\n",
    "# To separate strings, can use a special character called a delimiter\n",
    "# use the delimiter you want to split the string at as an argument\n",
    "# for below, it's the comma (',')\n",
    "\n",
    "\"A, B, C, D\".split(\",\")         # output: ['A', 'B', 'C', 'D']\n",
    "\n",
    "\n",
    "\n"
   ]
  },
  {
   "cell_type": "code",
   "execution_count": 35,
   "metadata": {},
   "outputs": [
    {
     "name": "stdout",
     "output_type": "stream",
     "text": [
      "['banana', 10, 1.2]\n",
      "['hard rock', 10, 1.2]\n"
     ]
    }
   ],
   "source": [
    "# Aliasing: referring to the same list with multiple names\n",
    "\n",
    "# A = [\"hard rock\", 10, 1.2]\n",
    "# B = A\n",
    "# B                               # aliasing; referencing the same list\n",
    "\n",
    "# # if you change an element in A, it will also change in B\n",
    "\n",
    "# B[0]                    # output: \"hard rock\"\n",
    "# A[0] = \"banana\"\n",
    "# B[0]                    # output becomes: \"banana\"\n",
    "\n",
    "# You can clone a list with ':'\n",
    "\n",
    "A = [\"hard rock\", 10, 1.2]\n",
    "B = A[:]                   \n",
    "# output: [\"hard rock\", 10, 1.2]\n",
    "# B is now a clone, not a copy and is not changed when list A is changed\n",
    "A[0] = \"banana\"      \n",
    "# B did not change\n",
    "# output: A = [\"banana\", 10, 1.2]; B = [\"hard rock\", 10, 1.2];\n",
    "print(A)\n",
    "print(B)\n",
    "\n"
   ]
  },
  {
   "cell_type": "code",
   "execution_count": 36,
   "metadata": {},
   "outputs": [
    {
     "name": "stdout",
     "output_type": "stream",
     "text": [
      "Help on list object:\n",
      "\n",
      "class list(object)\n",
      " |  list(iterable=(), /)\n",
      " |  \n",
      " |  Built-in mutable sequence.\n",
      " |  \n",
      " |  If no argument is given, the constructor creates a new empty list.\n",
      " |  The argument must be an iterable if specified.\n",
      " |  \n",
      " |  Methods defined here:\n",
      " |  \n",
      " |  __add__(self, value, /)\n",
      " |      Return self+value.\n",
      " |  \n",
      " |  __contains__(self, key, /)\n",
      " |      Return key in self.\n",
      " |  \n",
      " |  __delitem__(self, key, /)\n",
      " |      Delete self[key].\n",
      " |  \n",
      " |  __eq__(self, value, /)\n",
      " |      Return self==value.\n",
      " |  \n",
      " |  __ge__(self, value, /)\n",
      " |      Return self>=value.\n",
      " |  \n",
      " |  __getattribute__(self, name, /)\n",
      " |      Return getattr(self, name).\n",
      " |  \n",
      " |  __getitem__(...)\n",
      " |      x.__getitem__(y) <==> x[y]\n",
      " |  \n",
      " |  __gt__(self, value, /)\n",
      " |      Return self>value.\n",
      " |  \n",
      " |  __iadd__(self, value, /)\n",
      " |      Implement self+=value.\n",
      " |  \n",
      " |  __imul__(self, value, /)\n",
      " |      Implement self*=value.\n",
      " |  \n",
      " |  __init__(self, /, *args, **kwargs)\n",
      " |      Initialize self.  See help(type(self)) for accurate signature.\n",
      " |  \n",
      " |  __iter__(self, /)\n",
      " |      Implement iter(self).\n",
      " |  \n",
      " |  __le__(self, value, /)\n",
      " |      Return self<=value.\n",
      " |  \n",
      " |  __len__(self, /)\n",
      " |      Return len(self).\n",
      " |  \n",
      " |  __lt__(self, value, /)\n",
      " |      Return self<value.\n",
      " |  \n",
      " |  __mul__(self, value, /)\n",
      " |      Return self*value.\n",
      " |  \n",
      " |  __ne__(self, value, /)\n",
      " |      Return self!=value.\n",
      " |  \n",
      " |  __repr__(self, /)\n",
      " |      Return repr(self).\n",
      " |  \n",
      " |  __reversed__(self, /)\n",
      " |      Return a reverse iterator over the list.\n",
      " |  \n",
      " |  __rmul__(self, value, /)\n",
      " |      Return value*self.\n",
      " |  \n",
      " |  __setitem__(self, key, value, /)\n",
      " |      Set self[key] to value.\n",
      " |  \n",
      " |  __sizeof__(self, /)\n",
      " |      Return the size of the list in memory, in bytes.\n",
      " |  \n",
      " |  append(self, object, /)\n",
      " |      Append object to the end of the list.\n",
      " |  \n",
      " |  clear(self, /)\n",
      " |      Remove all items from list.\n",
      " |  \n",
      " |  copy(self, /)\n",
      " |      Return a shallow copy of the list.\n",
      " |  \n",
      " |  count(self, value, /)\n",
      " |      Return number of occurrences of value.\n",
      " |  \n",
      " |  extend(self, iterable, /)\n",
      " |      Extend list by appending elements from the iterable.\n",
      " |  \n",
      " |  index(self, value, start=0, stop=9223372036854775807, /)\n",
      " |      Return first index of value.\n",
      " |      \n",
      " |      Raises ValueError if the value is not present.\n",
      " |  \n",
      " |  insert(self, index, object, /)\n",
      " |      Insert object before index.\n",
      " |  \n",
      " |  pop(self, index=-1, /)\n",
      " |      Remove and return item at index (default last).\n",
      " |      \n",
      " |      Raises IndexError if list is empty or index is out of range.\n",
      " |  \n",
      " |  remove(self, value, /)\n",
      " |      Remove first occurrence of value.\n",
      " |      \n",
      " |      Raises ValueError if the value is not present.\n",
      " |  \n",
      " |  reverse(self, /)\n",
      " |      Reverse *IN PLACE*.\n",
      " |  \n",
      " |  sort(self, /, *, key=None, reverse=False)\n",
      " |      Sort the list in ascending order and return None.\n",
      " |      \n",
      " |      The sort is in-place (i.e. the list itself is modified) and stable (i.e. the\n",
      " |      order of two equal elements is maintained).\n",
      " |      \n",
      " |      If a key function is given, apply it once to each list item and sort them,\n",
      " |      ascending or descending, according to their function values.\n",
      " |      \n",
      " |      The reverse flag can be set to sort in descending order.\n",
      " |  \n",
      " |  ----------------------------------------------------------------------\n",
      " |  Class methods defined here:\n",
      " |  \n",
      " |  __class_getitem__(...) from builtins.type\n",
      " |      See PEP 585\n",
      " |  \n",
      " |  ----------------------------------------------------------------------\n",
      " |  Static methods defined here:\n",
      " |  \n",
      " |  __new__(*args, **kwargs) from builtins.type\n",
      " |      Create and return a new object.  See help(type) for accurate signature.\n",
      " |  \n",
      " |  ----------------------------------------------------------------------\n",
      " |  Data and other attributes defined here:\n",
      " |  \n",
      " |  __hash__ = None\n",
      "\n"
     ]
    }
   ],
   "source": [
    "A = [\"hard rock\", 10, 1.2]\n",
    "help(A)                     # to get information about the list\n"
   ]
  },
  {
   "cell_type": "code",
   "execution_count": 38,
   "metadata": {},
   "outputs": [
    {
     "name": "stdout",
     "output_type": "stream",
     "text": [
      "Michael Jackson\n",
      "Michael Jackson\n",
      "the same element using negative and positive indexing:\n",
      " Postive: Michael Jackson \n",
      " Negative: Michael Jackson\n",
      "the same element using negative and positive indexing:\n",
      " Postive: 10.1 \n",
      " Negative: 10.1\n",
      "the same element using negative and positive indexing:\n",
      " Postive: 1982 \n",
      " Negative: 1982\n"
     ]
    }
   ],
   "source": [
    "L = [\"Michael Jackson\", 10.1, 1982]\n",
    "L\n",
    "print(L[-3])\n",
    "print(L[0])\n",
    "\n",
    "print('the same element using negative and positive indexing:\\n Postive:',L[0],\n",
    "'\\n Negative:' , L[-3]  )\n",
    "print('the same element using negative and positive indexing:\\n Postive:',L[1],\n",
    "'\\n Negative:' , L[-2]  )\n",
    "print('the same element using negative and positive indexing:\\n Postive:',L[2],\n",
    "'\\n Negative:' , L[-1]  )"
   ]
  },
  {
   "cell_type": "code",
   "execution_count": 39,
   "metadata": {},
   "outputs": [
    {
     "name": "stdout",
     "output_type": "stream",
     "text": [
      "Before change: ['disco', 10, 1.2]\n",
      "After change: ['hard rock', 10, 1.2]\n"
     ]
    }
   ],
   "source": [
    "# Change the element based on the index\n",
    "\n",
    "A = [\"disco\", 10, 1.2]\n",
    "print('Before change:', A)\n",
    "A[0] = 'hard rock'\n",
    "print('After change:', A)"
   ]
  },
  {
   "cell_type": "markdown",
   "metadata": {},
   "source": [
    "Dictionaries\n",
    "\n",
    "- Type of collection\n",
    "- recall: a list is integer indexes; these are like addresses; a list also has elements\n",
    "- A dictionary has keys and values\n",
    "- Key is analagous to the index; they are like addresses, but they don't have to be integers; usually characters\n",
    "- Values are similar to the element in a list and contain information\n",
    "- Use curly brackets to create a dictionary '{}'\n",
    "- Keys are the first elements; must be immutable and unique; can only be strings, numbers, or tuple\n",
    "- for every key, there can only be one value\n",
    "- Each key is followed by a value separated by a colon\n",
    "- Values can be immutable, mutable, and duplicates; can be any data type\n",
    "- Each key and value pair is separated by a colon"
   ]
  },
  {
   "cell_type": "code",
   "execution_count": 52,
   "metadata": {},
   "outputs": [
    {
     "name": "stdout",
     "output_type": "stream",
     "text": [
      "{'key1': 1, 'key2': '2', 'key3': [3, 3, 3], 'key4': (4, 4, 4), 'key5': 5}\n",
      "1\n",
      "{'key1': 1, 'key2': '2', 'key3': [3, 3, 3], 'key4': (4, 4, 4), 'key5': 5, 'key6': (12, 4, 3)}\n",
      "{'key1': 1, 'key2': '2', 'key4': (4, 4, 4), 'key5': 5, 'key6': (12, 4, 3)}\n",
      "False\n",
      "True\n",
      "dict_keys(['key1', 'key2', 'key4', 'key5', 'key6'])\n",
      "dict_values([1, '2', (4, 4, 4), 5, (12, 4, 3)])\n"
     ]
    }
   ],
   "source": [
    " # example of a key\n",
    "\n",
    "dictionary_example =  {\"key1\":1, \"key2\":\"2\", \"key3\":[3,3,3], \"key4\":(4,4,4), ('key5'):5}            # can assign the dictionary to a variable\n",
    "print(dictionary_example)\n",
    "\n",
    " # key1, key2 = immutable\n",
    " # key3, key4 = mutable\n",
    " # key 5 = duplicate\n",
    "\n",
    "print(dictionary_example[\"key1\"])             # use [] to look up a key's value\n",
    "\n",
    " # To add a new entry to the dictionary\n",
    "\n",
    "dictionary_example[\"key6\"]=(12, 4, 3)\n",
    "print(dictionary_example)\n",
    "\n",
    "# To delete an entry in the dictionary\n",
    "\n",
    "del(dictionary_example[\"key3\"])\n",
    "print(dictionary_example)\n",
    "\n",
    "# To determine if a key is in the dictionary\n",
    "\n",
    "print('key3' in dictionary_example)                # if not present, prints False\n",
    "print('key6' in dictionary_example)                # if present, prints True\n",
    "\n",
    "# To get all the items in a dictionary, use '.keys()'\n",
    "\n",
    "print(dictionary_example.keys())\n",
    "\n",
    "# To get all the values in a dictionary, use '.values()'\n",
    "\n",
    "print(dictionary_example.values())\n",
    "\n",
    "\n",
    "\n",
    "\n"
   ]
  },
  {
   "cell_type": "markdown",
   "metadata": {},
   "source": [
    "Sets\n",
    "- also a type of collection\n",
    "- like lists and tuples, you can input different Python types\n",
    "- unlike lists and tuples, they are unordered; sets do not record element positions\n",
    "- sets only have unique elements; only one of a particular element is in a set\n",
    "- use '{}' to define a set\n",
    "- when a set is created, duplicate items will not be present"
   ]
  },
  {
   "cell_type": "code",
   "execution_count": 55,
   "metadata": {},
   "outputs": [
    {
     "data": {
      "text/plain": [
       "{'Beyonce',\n",
       " 'Janet Jackson',\n",
       " 'Keisha Cole',\n",
       " 'Michael Jackson',\n",
       " 'Missy Elliot',\n",
       " 'Rihanna'}"
      ]
     },
     "execution_count": 55,
     "metadata": {},
     "output_type": "execute_result"
    }
   ],
   "source": [
    "# create a set\n",
    "\n",
    "set_1 = {'Michael Jackson', 'Missy Elliot', 'Janet Jackson', 'Janet Jackson', 'Janet Jackson', 'Janet Jackson', 'Keisha Cole', 'Missy Elliot', 'Rihanna', 'Beyonce'}\n",
    "set_1\n",
    "\n",
    "# duplicate items are removed\n",
    "\n"
   ]
  },
  {
   "cell_type": "code",
   "execution_count": 56,
   "metadata": {},
   "outputs": [
    {
     "data": {
      "text/plain": [
       "{'Beyonce',\n",
       " 'Janet Jackson',\n",
       " 'Keisha Cole',\n",
       " 'Michael Jackson',\n",
       " 'Missy Elliot',\n",
       " 'Rihanna'}"
      ]
     },
     "execution_count": 56,
     "metadata": {},
     "output_type": "execute_result"
    }
   ],
   "source": [
    "# Can turn a list into a set; casting\n",
    "\n",
    "notable_artists = ['Michael Jackson', 'Missy Elliot', 'Janet Jackson', 'Janet Jackson', 'Janet Jackson', 'Janet Jackson', 'Keisha Cole', 'Missy Elliot', 'Rihanna', 'Beyonce']\n",
    "artists_set = set(notable_artists)\n",
    "artists_set\n",
    "\n",
    "\n"
   ]
  },
  {
   "cell_type": "code",
   "execution_count": 61,
   "metadata": {},
   "outputs": [
    {
     "name": "stdout",
     "output_type": "stream",
     "text": [
      "{'AC/DC', 'NSYNC', 'Back in Black', 'Thriller'}\n",
      "{'AC/DC', 'Back in Black', 'Thriller'}\n",
      "True\n",
      "False\n"
     ]
    }
   ],
   "source": [
    "# Set operations\n",
    "\n",
    "A = {'Thriller', 'Back in Black', 'AC/DC'}\n",
    "A.add('NSYNC')                                  # To add an element to a set\n",
    "print(A)\n",
    "A.remove('NSYNC')                               # To remove an element from a set\n",
    "print(A)\n",
    "print('AC/DC' in A)                             # To verify if an element is in the set\n",
    "print('Beyonce' in A)                           # If element is not in the set, a FALSE is returned\n",
    "\n",
    "\n",
    "\n",
    "\n"
   ]
  },
  {
   "cell_type": "code",
   "execution_count": 67,
   "metadata": {},
   "outputs": [
    {
     "name": "stdout",
     "output_type": "stream",
     "text": [
      "{'AC/DC', 'Back in Black'}\n",
      "True\n"
     ]
    },
    {
     "data": {
      "text/plain": [
       "{'AC/DC', 'Back in Black'}"
      ]
     },
     "execution_count": 67,
     "metadata": {},
     "output_type": "execute_result"
    }
   ],
   "source": [
    "# Mathematical set operations\n",
    "\n",
    "album_set_1 = {'AC/DC', 'Back in Black', 'Thriller'}\n",
    "album_set_2 = {'AC/DC', 'Back in Black', 'The Dark Side of the Moon'}\n",
    "\n",
    "# use an '&' to find the interaction between the two sets\n",
    "\n",
    "album_set_3 = album_set_1 & album_set_2                 # Tells you the elements that overlap in the two sets\n",
    "print(album_set_3)\n",
    "\n",
    "# Union of sets\n",
    "\n",
    "album_set_1.union(album_set_2)\n",
    "\n",
    "# To check if a set is a subset, use 'name_of_one_subset.issubset(name_of_other_subset)'\n",
    "\n",
    "album_set_3.issubset(album_set_1)           # returns a true if it's a subset\n",
    "\n",
    "# To check if a set is a superset\n",
    "\n",
    "print(album_set_1.issuperset({'Back in Black', 'AC/DC'}))\n",
    "\n",
    "\n",
    "# To find elements only contained in a set when compared with another\n",
    "\n",
    "album_set_1.difference(album_set_2)\n",
    "\n",
    "# To find the intersection of two sets\n",
    "\n",
    "album_set_1.intersection(album_set_2)\n",
    "\n",
    "\n",
    "\n",
    "\n"
   ]
  }
 ],
 "metadata": {
  "kernelspec": {
   "display_name": "Python 3.10.7 64-bit",
   "language": "python",
   "name": "python3"
  },
  "language_info": {
   "codemirror_mode": {
    "name": "ipython",
    "version": 3
   },
   "file_extension": ".py",
   "mimetype": "text/x-python",
   "name": "python",
   "nbconvert_exporter": "python",
   "pygments_lexer": "ipython3",
   "version": "3.10.7"
  },
  "orig_nbformat": 4,
  "vscode": {
   "interpreter": {
    "hash": "aee8b7b246df8f9039afb4144a1f6fd8d2ca17a180786b69acc140d282b71a49"
   }
  }
 },
 "nbformat": 4,
 "nbformat_minor": 2
}
